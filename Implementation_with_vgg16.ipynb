{
  "nbformat": 4,
  "nbformat_minor": 0,
  "metadata": {
    "colab": {
      "name": "Implementation.ipynb",
      "provenance": [],
      "collapsed_sections": [],
      "include_colab_link": true
    },
    "kernelspec": {
      "name": "python3",
      "display_name": "Python 3"
    }
  },
  "cells": [
    {
      "cell_type": "markdown",
      "metadata": {
        "id": "view-in-github",
        "colab_type": "text"
      },
      "source": [
        "<a href=\"https://colab.research.google.com/github/pavankumar186/Paper-Implementation-Correspondence-b-w-DeepNN-and-Human-representations/blob/master/Implementation_with_vgg16.ipynb\" target=\"_parent\"><img src=\"https://colab.research.google.com/assets/colab-badge.svg\" alt=\"Open In Colab\"/></a>"
      ]
    },
    {
      "cell_type": "code",
      "metadata": {
        "id": "pJVB4r8xEQSg",
        "colab_type": "code",
        "colab": {
          "base_uri": "https://localhost:8080/",
          "height": 369
        },
        "outputId": "1fa5a1ed-ca38-4bcb-8754-dded3842a0c1"
      },
      "source": [
        "import requests, zipfile, io\n",
        "r = requests.get( 'https://github.com/jcpeterson/percept2vec/blob/master/animals.zip?raw=true' ) \n",
        "z = zipfile.ZipFile(io.BytesIO(r.content))\n",
        "z.extractall()\n",
        "!wget https://github.com/jcpeterson/percept2vec/blob/master/turkResults_CogSci2016.mat?raw=true\n",
        "!mv turkResults_CogSci2016.mat\\?raw\\=true human_data.mat\n",
        "import numpy as np\n",
        "from scipy.io import loadmat\n",
        "human_data = loadmat('human_data.mat')\n",
        "actualSimMat = human_data['simMatrix']"
      ],
      "execution_count": 14,
      "outputs": [
        {
          "output_type": "stream",
          "text": [
            "--2020-07-03 06:22:11--  https://github.com/jcpeterson/percept2vec/blob/master/turkResults_CogSci2016.mat?raw=true\n",
            "Resolving github.com (github.com)... 140.82.112.4\n",
            "Connecting to github.com (github.com)|140.82.112.4|:443... connected.\n",
            "HTTP request sent, awaiting response... 302 Found\n",
            "Location: https://github.com/jcpeterson/percept2vec/raw/master/turkResults_CogSci2016.mat [following]\n",
            "--2020-07-03 06:22:11--  https://github.com/jcpeterson/percept2vec/raw/master/turkResults_CogSci2016.mat\n",
            "Reusing existing connection to github.com:443.\n",
            "HTTP request sent, awaiting response... 302 Found\n",
            "Location: https://raw.githubusercontent.com/jcpeterson/percept2vec/master/turkResults_CogSci2016.mat [following]\n",
            "--2020-07-03 06:22:11--  https://raw.githubusercontent.com/jcpeterson/percept2vec/master/turkResults_CogSci2016.mat\n",
            "Resolving raw.githubusercontent.com (raw.githubusercontent.com)... 151.101.0.133, 151.101.64.133, 151.101.128.133, ...\n",
            "Connecting to raw.githubusercontent.com (raw.githubusercontent.com)|151.101.0.133|:443... connected.\n",
            "HTTP request sent, awaiting response... 200 OK\n",
            "Length: 65856 (64K) [application/octet-stream]\n",
            "Saving to: ‘turkResults_CogSci2016.mat?raw=true’\n",
            "\n",
            "\r          turkResul   0%[                    ]       0  --.-KB/s               \rturkResults_CogSci2 100%[===================>]  64.31K  --.-KB/s    in 0.03s   \n",
            "\n",
            "2020-07-03 06:22:11 (2.34 MB/s) - ‘turkResults_CogSci2016.mat?raw=true’ saved [65856/65856]\n",
            "\n"
          ],
          "name": "stdout"
        }
      ]
    },
    {
      "cell_type": "code",
      "metadata": {
        "id": "gmDNfjNaMPBo",
        "colab_type": "code",
        "colab": {
          "base_uri": "https://localhost:8080/",
          "height": 932
        },
        "outputId": "d447538e-3f22-4766-cce3-d2de1988698a"
      },
      "source": [
        "import tensorflow as tf\n",
        "from tensorflow import keras\n",
        "import matplotlib.pyplot as plt\n",
        "import numpy as np\n",
        "import scipy as sp\n",
        "\n",
        "vgg16_model = keras.applications.vgg16.VGG16(weights='imagenet', include_top=True, input_shape = (224, 224, 3))\n",
        "v_model = tf.keras.Sequential()\n",
        "\n",
        "for layer in vgg16_model.layers[:-1]:\n",
        "  v_model.add(layer)\n",
        "\n",
        "v_model.summary()"
      ],
      "execution_count": 16,
      "outputs": [
        {
          "output_type": "stream",
          "text": [
            "Downloading data from https://storage.googleapis.com/tensorflow/keras-applications/vgg16/vgg16_weights_tf_dim_ordering_tf_kernels.h5\n",
            "553467904/553467096 [==============================] - 3s 0us/step\n",
            "Model: \"sequential\"\n",
            "_________________________________________________________________\n",
            "Layer (type)                 Output Shape              Param #   \n",
            "=================================================================\n",
            "block1_conv1 (Conv2D)        (None, 224, 224, 64)      1792      \n",
            "_________________________________________________________________\n",
            "block1_conv2 (Conv2D)        (None, 224, 224, 64)      36928     \n",
            "_________________________________________________________________\n",
            "block1_pool (MaxPooling2D)   (None, 112, 112, 64)      0         \n",
            "_________________________________________________________________\n",
            "block2_conv1 (Conv2D)        (None, 112, 112, 128)     73856     \n",
            "_________________________________________________________________\n",
            "block2_conv2 (Conv2D)        (None, 112, 112, 128)     147584    \n",
            "_________________________________________________________________\n",
            "block2_pool (MaxPooling2D)   (None, 56, 56, 128)       0         \n",
            "_________________________________________________________________\n",
            "block3_conv1 (Conv2D)        (None, 56, 56, 256)       295168    \n",
            "_________________________________________________________________\n",
            "block3_conv2 (Conv2D)        (None, 56, 56, 256)       590080    \n",
            "_________________________________________________________________\n",
            "block3_conv3 (Conv2D)        (None, 56, 56, 256)       590080    \n",
            "_________________________________________________________________\n",
            "block3_pool (MaxPooling2D)   (None, 28, 28, 256)       0         \n",
            "_________________________________________________________________\n",
            "block4_conv1 (Conv2D)        (None, 28, 28, 512)       1180160   \n",
            "_________________________________________________________________\n",
            "block4_conv2 (Conv2D)        (None, 28, 28, 512)       2359808   \n",
            "_________________________________________________________________\n",
            "block4_conv3 (Conv2D)        (None, 28, 28, 512)       2359808   \n",
            "_________________________________________________________________\n",
            "block4_pool (MaxPooling2D)   (None, 14, 14, 512)       0         \n",
            "_________________________________________________________________\n",
            "block5_conv1 (Conv2D)        (None, 14, 14, 512)       2359808   \n",
            "_________________________________________________________________\n",
            "block5_conv2 (Conv2D)        (None, 14, 14, 512)       2359808   \n",
            "_________________________________________________________________\n",
            "block5_conv3 (Conv2D)        (None, 14, 14, 512)       2359808   \n",
            "_________________________________________________________________\n",
            "block5_pool (MaxPooling2D)   (None, 7, 7, 512)         0         \n",
            "_________________________________________________________________\n",
            "flatten (Flatten)            (None, 25088)             0         \n",
            "_________________________________________________________________\n",
            "fc1 (Dense)                  (None, 4096)              102764544 \n",
            "_________________________________________________________________\n",
            "fc2 (Dense)                  (None, 4096)              16781312  \n",
            "=================================================================\n",
            "Total params: 134,260,544\n",
            "Trainable params: 134,260,544\n",
            "Non-trainable params: 0\n",
            "_________________________________________________________________\n"
          ],
          "name": "stdout"
        }
      ]
    },
    {
      "cell_type": "code",
      "metadata": {
        "id": "W5AI_0KDHcIr",
        "colab_type": "code",
        "colab": {}
      },
      "source": [
        "import glob\n",
        "import re\n",
        "import numpy as np\n",
        "from keras.applications.vgg16 import preprocess_input\n",
        "from tensorflow.keras.preprocessing import image\n",
        "\n",
        "images = []\n",
        "tags = []\n",
        "tag_image = {}\n",
        "path = \"/content/images/*.png\"\n",
        "\n",
        "count = 0\n",
        "for file in glob.glob(path):\n",
        "    images.append(image.load_img(file,target_size=(224,224)))\n",
        "    temp = re.findall(r'\\d+', file)\n",
        "    tags.append(int(temp[0]))\n",
        "    tag_image.update({tags[count] : images[count]})\n",
        "    count = count + 1\n",
        "\n",
        "feature_map = {}\n",
        "\n",
        "for i in range(120):\n",
        "  tag_image[tags[i]] = np.expand_dims(tag_image[tags[i]], axis=0)\n",
        "  tag_image[tags[i]] = preprocess_input(tag_image[tags[i]])\n",
        "  feature = v_model.predict(tag_image[tags[i]])\n",
        "  feature_map.update({tags[i] : feature})\n",
        "  feature_map[tags[i]] = np.reshape(feature_map[tags[i]],4096)\n",
        "\n"
      ],
      "execution_count": 18,
      "outputs": []
    },
    {
      "cell_type": "code",
      "metadata": {
        "colab_type": "code",
        "id": "iFPEHsLFhRNH",
        "colab": {
          "base_uri": "https://localhost:8080/",
          "height": 34
        },
        "outputId": "db06e1aa-b612-4c3e-e98a-406f6b390dcc"
      },
      "source": [
        "tags.sort()\n",
        "\n",
        "F_list = []\n",
        "\n",
        "for i in range(120):\n",
        "  F_list.append(feature_map[tags[i]])\n",
        "\n",
        "F = np.asarray(F_list)\n",
        "F = np.reshape(F, (120,4096))\n",
        "# print(F)\n",
        "\n",
        "simMat = F.dot(F.transpose())\n",
        "simMatOrig = simMat\n",
        "simMat = np.reshape(simMat, (14400))\n",
        "print(simMat)"
      ],
      "execution_count": 24,
      "outputs": [
        {
          "output_type": "stream",
          "text": [
            "[7379.0215  3241.447   1205.5062  ... 1785.7758   408.06677 3472.9753 ]\n"
          ],
          "name": "stdout"
        }
      ]
    },
    {
      "cell_type": "code",
      "metadata": {
        "colab_type": "code",
        "id": "ZY0ZKBM_hRNM",
        "colab": {
          "base_uri": "https://localhost:8080/",
          "height": 87
        },
        "outputId": "d5e10f08-51ed-4a19-b384-38bca18015af"
      },
      "source": [
        "actualSimMat=np.reshape(actualSimMat,(120,120))\n",
        "\n",
        "humanSimMat = actualSimMat\n",
        "print(actualSimMat.shape)\n",
        "uniqueSim=[]\n",
        "for i in range(120):\n",
        "  for j in range(i,120):\n",
        "    uniqueSim.append(actualSimMat[i,j])\n",
        "uniqueSim=np.asarray(uniqueSim)\n",
        "print(uniqueSim.shape)\n",
        "actualSimMat = actualSimMat.reshape((14400))\n",
        "\n",
        "correlation_matrix = np.corrcoef(simMat, actualSimMat)\n",
        "correlation_xy = correlation_matrix[0,1]\n",
        "\n",
        "r_squared = correlation_xy**2\n",
        "print(r_squared)\n",
        "\n",
        "\n",
        "inp2 = []\n",
        "for i in range(120):\n",
        "  for j in range(120):\n",
        "    inp2.append(F[i]*F[j])\n",
        "\n",
        "inp2 = np.asarray(inp2)\n",
        "print(inp2.shape )"
      ],
      "execution_count": 26,
      "outputs": [
        {
          "output_type": "stream",
          "text": [
            "(120, 120)\n",
            "(7260,)\n",
            "0.44783041226328657\n",
            "(14400, 4096)\n"
          ],
          "name": "stdout"
        }
      ]
    },
    {
      "cell_type": "code",
      "metadata": {
        "id": "_CiEB2cRl67D",
        "colab_type": "code",
        "colab": {
          "base_uri": "https://localhost:8080/",
          "height": 34
        },
        "outputId": "cba84dd6-81e6-4bc9-a52d-06579d21a500"
      },
      "source": [
        "# normal usage\n",
        "inp = []\n",
        "for i in range(120):\n",
        "  for j in range(i,120):\n",
        "    inp.append(F[i]*F[j])\n",
        "\n",
        "inp = np.asarray(inp)\n",
        "print(inp.shape )"
      ],
      "execution_count": 27,
      "outputs": [
        {
          "output_type": "stream",
          "text": [
            "(7260, 4096)\n"
          ],
          "name": "stdout"
        }
      ]
    },
    {
      "cell_type": "code",
      "metadata": {
        "colab_type": "code",
        "id": "fMiEaGrgb-E2",
        "colab": {}
      },
      "source": [
        "from sklearn.model_selection import cross_validate\n",
        "from sklearn.model_selection import GridSearchCV\n",
        "from sklearn.linear_model import Ridge\n",
        "clf2 = Ridge(solver='sag', fit_intercept=False)\n",
        "parameters = {'alpha': [0.01, 1, 10,100,1000,1e4, 50000, 1e5,1e6]}\n",
        "ridge_regressor = GridSearchCV(clf2, parameters, scoring='neg_mean_squared_error', cv=6)\n",
        "ridge_regressor.fit(inp, uniqueSim)\n",
        "best_clf = ridge_regressor.best_estimator_\n",
        "print(best_clf)\n",
        "# best_clf.fit(inp, uniqueSim)"
      ],
      "execution_count": null,
      "outputs": []
    },
    {
      "cell_type": "code",
      "metadata": {
        "id": "wEKApXF4P9yy",
        "colab_type": "code",
        "colab": {}
      },
      "source": [
        "a=cross_validate(best_clf,inp2,actualSimMat,scoring=\"r2\",cv=6)"
      ],
      "execution_count": null,
      "outputs": []
    },
    {
      "cell_type": "code",
      "metadata": {
        "id": "UrOq3v2_QBug",
        "colab_type": "code",
        "colab": {}
      },
      "source": [
        "a['test_score'].mean()"
      ],
      "execution_count": null,
      "outputs": []
    },
    {
      "cell_type": "code",
      "metadata": {
        "colab_type": "code",
        "id": "7aVeF1x7cLso",
        "colab": {}
      },
      "source": [
        "simPredict = best_clf.predict(inp2)\n",
        "\n",
        "correlation_matrix = np.corrcoef(simPredict, actualSimMat)\n",
        "correlation_xy = correlation_matrix[0,1]\n",
        "\n",
        "r_squared = correlation_xy**2\n",
        "print(r_squared)"
      ],
      "execution_count": null,
      "outputs": []
    },
    {
      "cell_type": "code",
      "metadata": {
        "id": "9spx5C_kgk8N",
        "colab_type": "code",
        "colab": {}
      },
      "source": [
        "def dissimilarity(S):\n",
        "  D = np.zeros_like(S)\n",
        "  for i in np.arange(D.shape[0]):\n",
        "    for j in np.arange(D.shape[1]):\n",
        "      D[i][j] = np.sqrt(abs(S[i][i] + S[j][j] - 2*S[i][j]))\n",
        "\n",
        "  return D"
      ],
      "execution_count": null,
      "outputs": []
    },
    {
      "cell_type": "code",
      "metadata": {
        "id": "v1ZS2tZ8gm_x",
        "colab_type": "code",
        "colab": {}
      },
      "source": [
        "from sklearn.manifold import MDS\n",
        "visual = MDS(n_components = 2, dissimilarity = 'precomputed', random_state = 1)\n",
        "coord = visual.fit_transform(dissimilarity(humanSimMat))\n",
        "plt.scatter(coord[:,0], coord[:,1])\n",
        "plt.title(\"Original Data MDS Plot\")"
      ],
      "execution_count": null,
      "outputs": []
    },
    {
      "cell_type": "code",
      "metadata": {
        "id": "V_r1HdoNgovL",
        "colab_type": "code",
        "colab": {}
      },
      "source": [
        "visual = MDS(n_components = 2, dissimilarity = 'precomputed', random_state = 1)\n",
        "coord = visual.fit_transform(dissimilarity(simMatOrig))\n",
        "plt.scatter(coord[:,0], coord[:,1])\n",
        "plt.title(\"Raw MDS Plot\")"
      ],
      "execution_count": null,
      "outputs": []
    },
    {
      "cell_type": "code",
      "metadata": {
        "id": "Cu9ZpLz9grA8",
        "colab_type": "code",
        "colab": {}
      },
      "source": [
        "simMatMod = simPredict.reshape((120,120))\n",
        "coord = visual.fit_transform(dissimilarity(simMatMod))\n",
        "plt.scatter(coord[:,0], coord[:,1])\n",
        "plt.title(\"Adjusted MDS Plot\")"
      ],
      "execution_count": null,
      "outputs": []
    },
    {
      "cell_type": "markdown",
      "metadata": {
        "id": "t27ia8aPgudp",
        "colab_type": "text"
      },
      "source": [
        "Human Similarity Hierarchical Clustering:"
      ]
    },
    {
      "cell_type": "code",
      "metadata": {
        "id": "b2qNOijkgylt",
        "colab_type": "code",
        "colab": {}
      },
      "source": [
        "import plotly.figure_factory as ff\n",
        "import numpy as np\n",
        "\n",
        " # 15 samples, with 12 dimensions each\n",
        "fig = ff.create_dendrogram(humanSimMat, color_threshold=10)\n",
        "fig.update_layout(width=800, height=500)\n",
        "fig.show()"
      ],
      "execution_count": null,
      "outputs": []
    },
    {
      "cell_type": "markdown",
      "metadata": {
        "id": "M8HwCRW7g20V",
        "colab_type": "text"
      },
      "source": [
        "Adjusted Similarity Hierarchical Clustering:\n"
      ]
    },
    {
      "cell_type": "code",
      "metadata": {
        "id": "IexUTm4Qg4bZ",
        "colab_type": "code",
        "colab": {}
      },
      "source": [
        "fig = ff.create_dendrogram(simMatMod, color_threshold=15)\n",
        "fig.update_layout(width=800, height=500)\n",
        "fig.show()"
      ],
      "execution_count": null,
      "outputs": []
    },
    {
      "cell_type": "markdown",
      "metadata": {
        "id": "j9_MInrHg8p3",
        "colab_type": "text"
      },
      "source": [
        "Raw Similarity Hierarchical Clustering:\n"
      ]
    },
    {
      "cell_type": "code",
      "metadata": {
        "id": "QLS1bH7jg-o4",
        "colab_type": "code",
        "colab": {}
      },
      "source": [
        "fig = ff.create_dendrogram(simMatOrig, color_threshold=3000)\n",
        "fig.update_layout(width=800, height=500)\n",
        "fig.show()"
      ],
      "execution_count": null,
      "outputs": []
    }
  ]
}