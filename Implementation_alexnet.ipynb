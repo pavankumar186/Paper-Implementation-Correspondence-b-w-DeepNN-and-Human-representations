{
  "nbformat": 4,
  "nbformat_minor": 0,
  "metadata": {
    "colab": {
      "name": "Implementation_alexnet.ipynb",
      "provenance": []
    },
    "kernelspec": {
      "name": "python3",
      "display_name": "Python 3"
    },
    "accelerator": "GPU",
    "widgets": {
      "application/vnd.jupyter.widget-state+json": {
        "2641bc421572430085bf503481699b2a": {
          "model_module": "@jupyter-widgets/controls",
          "model_name": "HBoxModel",
          "state": {
            "_view_name": "HBoxView",
            "_dom_classes": [],
            "_model_name": "HBoxModel",
            "_view_module": "@jupyter-widgets/controls",
            "_model_module_version": "1.5.0",
            "_view_count": null,
            "_view_module_version": "1.5.0",
            "box_style": "",
            "layout": "IPY_MODEL_ed9fb3e768ee435e8de8c30e9946aef7",
            "_model_module": "@jupyter-widgets/controls",
            "children": [
              "IPY_MODEL_3e93c0ef22464ff7a4f97842fe5883b7",
              "IPY_MODEL_929649b00953454c8aa4c004846d8f2f"
            ]
          }
        },
        "ed9fb3e768ee435e8de8c30e9946aef7": {
          "model_module": "@jupyter-widgets/base",
          "model_name": "LayoutModel",
          "state": {
            "_view_name": "LayoutView",
            "grid_template_rows": null,
            "right": null,
            "justify_content": null,
            "_view_module": "@jupyter-widgets/base",
            "overflow": null,
            "_model_module_version": "1.2.0",
            "_view_count": null,
            "flex_flow": null,
            "width": null,
            "min_width": null,
            "border": null,
            "align_items": null,
            "bottom": null,
            "_model_module": "@jupyter-widgets/base",
            "top": null,
            "grid_column": null,
            "overflow_y": null,
            "overflow_x": null,
            "grid_auto_flow": null,
            "grid_area": null,
            "grid_template_columns": null,
            "flex": null,
            "_model_name": "LayoutModel",
            "justify_items": null,
            "grid_row": null,
            "max_height": null,
            "align_content": null,
            "visibility": null,
            "align_self": null,
            "height": null,
            "min_height": null,
            "padding": null,
            "grid_auto_rows": null,
            "grid_gap": null,
            "max_width": null,
            "order": null,
            "_view_module_version": "1.2.0",
            "grid_template_areas": null,
            "object_position": null,
            "object_fit": null,
            "grid_auto_columns": null,
            "margin": null,
            "display": null,
            "left": null
          }
        },
        "3e93c0ef22464ff7a4f97842fe5883b7": {
          "model_module": "@jupyter-widgets/controls",
          "model_name": "FloatProgressModel",
          "state": {
            "_view_name": "ProgressView",
            "style": "IPY_MODEL_d2e85f43d4d5431abd203c5509f76fd9",
            "_dom_classes": [],
            "description": "100%",
            "_model_name": "FloatProgressModel",
            "bar_style": "success",
            "max": 244418560,
            "_view_module": "@jupyter-widgets/controls",
            "_model_module_version": "1.5.0",
            "value": 244418560,
            "_view_count": null,
            "_view_module_version": "1.5.0",
            "orientation": "horizontal",
            "min": 0,
            "description_tooltip": null,
            "_model_module": "@jupyter-widgets/controls",
            "layout": "IPY_MODEL_c4ac9e2fb6e24d51bd1df79242919d47"
          }
        },
        "929649b00953454c8aa4c004846d8f2f": {
          "model_module": "@jupyter-widgets/controls",
          "model_name": "HTMLModel",
          "state": {
            "_view_name": "HTMLView",
            "style": "IPY_MODEL_8b6451bfc25241c4830a43c0d92d87f7",
            "_dom_classes": [],
            "description": "",
            "_model_name": "HTMLModel",
            "placeholder": "​",
            "_view_module": "@jupyter-widgets/controls",
            "_model_module_version": "1.5.0",
            "value": " 233M/233M [02:20&lt;00:00, 1.73MB/s]",
            "_view_count": null,
            "_view_module_version": "1.5.0",
            "description_tooltip": null,
            "_model_module": "@jupyter-widgets/controls",
            "layout": "IPY_MODEL_bc867396211f40d79db37c205e7434d0"
          }
        },
        "d2e85f43d4d5431abd203c5509f76fd9": {
          "model_module": "@jupyter-widgets/controls",
          "model_name": "ProgressStyleModel",
          "state": {
            "_view_name": "StyleView",
            "_model_name": "ProgressStyleModel",
            "description_width": "initial",
            "_view_module": "@jupyter-widgets/base",
            "_model_module_version": "1.5.0",
            "_view_count": null,
            "_view_module_version": "1.2.0",
            "bar_color": null,
            "_model_module": "@jupyter-widgets/controls"
          }
        },
        "c4ac9e2fb6e24d51bd1df79242919d47": {
          "model_module": "@jupyter-widgets/base",
          "model_name": "LayoutModel",
          "state": {
            "_view_name": "LayoutView",
            "grid_template_rows": null,
            "right": null,
            "justify_content": null,
            "_view_module": "@jupyter-widgets/base",
            "overflow": null,
            "_model_module_version": "1.2.0",
            "_view_count": null,
            "flex_flow": null,
            "width": null,
            "min_width": null,
            "border": null,
            "align_items": null,
            "bottom": null,
            "_model_module": "@jupyter-widgets/base",
            "top": null,
            "grid_column": null,
            "overflow_y": null,
            "overflow_x": null,
            "grid_auto_flow": null,
            "grid_area": null,
            "grid_template_columns": null,
            "flex": null,
            "_model_name": "LayoutModel",
            "justify_items": null,
            "grid_row": null,
            "max_height": null,
            "align_content": null,
            "visibility": null,
            "align_self": null,
            "height": null,
            "min_height": null,
            "padding": null,
            "grid_auto_rows": null,
            "grid_gap": null,
            "max_width": null,
            "order": null,
            "_view_module_version": "1.2.0",
            "grid_template_areas": null,
            "object_position": null,
            "object_fit": null,
            "grid_auto_columns": null,
            "margin": null,
            "display": null,
            "left": null
          }
        },
        "8b6451bfc25241c4830a43c0d92d87f7": {
          "model_module": "@jupyter-widgets/controls",
          "model_name": "DescriptionStyleModel",
          "state": {
            "_view_name": "StyleView",
            "_model_name": "DescriptionStyleModel",
            "description_width": "",
            "_view_module": "@jupyter-widgets/base",
            "_model_module_version": "1.5.0",
            "_view_count": null,
            "_view_module_version": "1.2.0",
            "_model_module": "@jupyter-widgets/controls"
          }
        },
        "bc867396211f40d79db37c205e7434d0": {
          "model_module": "@jupyter-widgets/base",
          "model_name": "LayoutModel",
          "state": {
            "_view_name": "LayoutView",
            "grid_template_rows": null,
            "right": null,
            "justify_content": null,
            "_view_module": "@jupyter-widgets/base",
            "overflow": null,
            "_model_module_version": "1.2.0",
            "_view_count": null,
            "flex_flow": null,
            "width": null,
            "min_width": null,
            "border": null,
            "align_items": null,
            "bottom": null,
            "_model_module": "@jupyter-widgets/base",
            "top": null,
            "grid_column": null,
            "overflow_y": null,
            "overflow_x": null,
            "grid_auto_flow": null,
            "grid_area": null,
            "grid_template_columns": null,
            "flex": null,
            "_model_name": "LayoutModel",
            "justify_items": null,
            "grid_row": null,
            "max_height": null,
            "align_content": null,
            "visibility": null,
            "align_self": null,
            "height": null,
            "min_height": null,
            "padding": null,
            "grid_auto_rows": null,
            "grid_gap": null,
            "max_width": null,
            "order": null,
            "_view_module_version": "1.2.0",
            "grid_template_areas": null,
            "object_position": null,
            "object_fit": null,
            "grid_auto_columns": null,
            "margin": null,
            "display": null,
            "left": null
          }
        }
      }
    }
  },
  "cells": [
    {
      "cell_type": "code",
      "metadata": {
        "id": "GWaZmi42igF6",
        "colab_type": "code",
        "colab": {
          "base_uri": "https://localhost:8080/",
          "height": 1000
        },
        "outputId": "86fd298e-cfba-4064-fc69-75450eacebd0"
      },
      "source": [
        "!wget https://github.com/jcpeterson/percept2vec/blob/master/animals.zip?raw=true\n",
        "!unzip animals.zip?raw=true\n",
        "!wget https://github.com/jcpeterson/percept2vec/blob/master/turkResults_CogSci2016.mat?raw=true\n",
        "!mv turkResults_CogSci2016.mat\\?raw\\=true hum.mat\n",
        "import scipy.io\n",
        "hum = scipy.io.loadmat('hum.mat')\n",
        "humMat = hum['simMatrix']\n"
      ],
      "execution_count": 1,
      "outputs": [
        {
          "output_type": "stream",
          "text": [
            "--2020-08-05 05:52:07--  https://github.com/jcpeterson/percept2vec/blob/master/animals.zip?raw=true\n",
            "Resolving github.com (github.com)... 140.82.118.4\n",
            "Connecting to github.com (github.com)|140.82.118.4|:443... connected.\n",
            "HTTP request sent, awaiting response... 302 Found\n",
            "Location: https://github.com/jcpeterson/percept2vec/raw/master/animals.zip [following]\n",
            "--2020-08-05 05:52:07--  https://github.com/jcpeterson/percept2vec/raw/master/animals.zip\n",
            "Reusing existing connection to github.com:443.\n",
            "HTTP request sent, awaiting response... 302 Found\n",
            "Location: https://raw.githubusercontent.com/jcpeterson/percept2vec/master/animals.zip [following]\n",
            "--2020-08-05 05:52:07--  https://raw.githubusercontent.com/jcpeterson/percept2vec/master/animals.zip\n",
            "Resolving raw.githubusercontent.com (raw.githubusercontent.com)... 151.101.0.133, 151.101.64.133, 151.101.128.133, ...\n",
            "Connecting to raw.githubusercontent.com (raw.githubusercontent.com)|151.101.0.133|:443... connected.\n",
            "HTTP request sent, awaiting response... 200 OK\n",
            "Length: 20380708 (19M) [application/zip]\n",
            "Saving to: ‘animals.zip?raw=true’\n",
            "\n",
            "animals.zip?raw=tru 100%[===================>]  19.44M  89.9MB/s    in 0.2s    \n",
            "\n",
            "2020-08-05 05:52:09 (89.9 MB/s) - ‘animals.zip?raw=true’ saved [20380708/20380708]\n",
            "\n",
            "Archive:  animals.zip?raw=true\n",
            "   creating: images/\n",
            "  inflating: images/desktop.ini      \n",
            "  inflating: images/stim-0007.png    \n",
            "  inflating: images/stim-0019.png    \n",
            "  inflating: images/stim-0035.png    \n",
            "  inflating: images/stim-0078.png    \n",
            "  inflating: images/stim-0087.png    \n",
            "  inflating: images/stim-0098.png    \n",
            "  inflating: images/stim-0152.png    \n",
            "  inflating: images/stim-0156.png    \n",
            "  inflating: images/stim-0166.png    \n",
            "  inflating: images/stim-0178.png    \n",
            "  inflating: images/stim-0189.png    \n",
            "  inflating: images/stim-0201.png    \n",
            "  inflating: images/stim-0205.png    \n",
            "  inflating: images/stim-0213.png    \n",
            "  inflating: images/stim-0225.png    \n",
            "  inflating: images/stim-0234.png    \n",
            "  inflating: images/stim-0239.png    \n",
            "  inflating: images/stim-0255.png    \n",
            "  inflating: images/stim-0262.png    \n",
            "  inflating: images/stim-0264.png    \n",
            "  inflating: images/stim-0265.png    \n",
            "  inflating: images/stim-0304.png    \n",
            "  inflating: images/stim-0306.png    \n",
            "  inflating: images/stim-0307.png    \n",
            "  inflating: images/stim-0326.png    \n",
            "  inflating: images/stim-0340.png    \n",
            "  inflating: images/stim-0346.png    \n",
            "  inflating: images/stim-0352.png    \n",
            "  inflating: images/stim-0354.png    \n",
            "  inflating: images/stim-0394.png    \n",
            "  inflating: images/stim-0398.png    \n",
            "  inflating: images/stim-0400.png    \n",
            "  inflating: images/stim-0407.png    \n",
            "  inflating: images/stim-0433.png    \n",
            "  inflating: images/stim-0441.png    \n",
            "  inflating: images/stim-0466.png    \n",
            "  inflating: images/stim-0517.png    \n",
            "  inflating: images/stim-0533.png    \n",
            "  inflating: images/stim-0548.png    \n",
            "  inflating: images/stim-0598.png    \n",
            "  inflating: images/stim-0605.png    \n",
            "  inflating: images/stim-0609.png    \n",
            "  inflating: images/stim-0614.png    \n",
            "  inflating: images/stim-0629.png    \n",
            "  inflating: images/stim-0641.png    \n",
            "  inflating: images/stim-0659.png    \n",
            "  inflating: images/stim-0665.png    \n",
            "  inflating: images/stim-0675.png    \n",
            "  inflating: images/stim-0677.png    \n",
            "  inflating: images/stim-0698.png    \n",
            "  inflating: images/stim-0702.png    \n",
            "  inflating: images/stim-0720.png    \n",
            "  inflating: images/stim-0722.png    \n",
            "  inflating: images/stim-0762.png    \n",
            "  inflating: images/stim-0768.png    \n",
            "  inflating: images/stim-0786.png    \n",
            "  inflating: images/stim-0793.png    \n",
            "  inflating: images/stim-0805.png    \n",
            "  inflating: images/stim-0829.png    \n",
            "  inflating: images/stim-0836.png    \n",
            "  inflating: images/stim-0856.png    \n",
            "  inflating: images/stim-0906.png    \n",
            "  inflating: images/stim-0919.png    \n",
            "  inflating: images/stim-0929.png    \n",
            "  inflating: images/stim-0942.png    \n",
            "  inflating: images/stim-0953.png    \n",
            "  inflating: images/stim-0976.png    \n",
            "  inflating: images/stim-0978.png    \n",
            "  inflating: images/stim-0984.png    \n",
            "  inflating: images/stim-0986.png    \n",
            "  inflating: images/stim-0994.png    \n",
            "  inflating: images/stim-1027.png    \n",
            "  inflating: images/stim-1033.png    \n",
            "  inflating: images/stim-1034.png    \n",
            "  inflating: images/stim-1041.png    \n",
            "  inflating: images/stim-1049.png    \n",
            "  inflating: images/stim-1056.png    \n",
            "  inflating: images/stim-1059.png    \n",
            "  inflating: images/stim-1073.png    \n",
            "  inflating: images/stim-1075.png    \n",
            "  inflating: images/stim-1077.png    \n",
            "  inflating: images/stim-1079.png    \n",
            "  inflating: images/stim-1082.png    \n",
            "  inflating: images/stim-1089.png    \n",
            "  inflating: images/stim-1096.png    \n",
            "  inflating: images/stim-1098.png    \n",
            "  inflating: images/stim-1125.png    \n",
            "  inflating: images/stim-1130.png    \n",
            "  inflating: images/stim-1134.png    \n",
            "  inflating: images/stim-1143.png    \n",
            "  inflating: images/stim-1149.png    \n",
            "  inflating: images/stim-1158.png    \n",
            "  inflating: images/stim-1172.png    \n",
            "  inflating: images/stim-1183.png    \n",
            "  inflating: images/stim-1209.png    \n",
            "  inflating: images/stim-1228.png    \n",
            "  inflating: images/stim-1238.png    \n",
            "  inflating: images/stim-1286.png    \n",
            "  inflating: images/stim-1314.png    \n",
            "  inflating: images/stim-1325.png    \n",
            "  inflating: images/stim-1343.png    \n",
            "  inflating: images/stim-1345.png    \n",
            "  inflating: images/stim-1363.png    \n",
            "  inflating: images/stim-1368.png    \n",
            "  inflating: images/stim-1377.png    \n",
            "  inflating: images/stim-1432.png    \n",
            "  inflating: images/stim-1460.png    \n",
            "  inflating: images/stim-1464.png    \n",
            "  inflating: images/stim-1507.png    \n",
            "  inflating: images/stim-1518.png    \n",
            "  inflating: images/stim-1521.png    \n",
            "  inflating: images/stim-1526.png    \n",
            "  inflating: images/stim-1533.png    \n",
            "  inflating: images/stim-1552.png    \n",
            "  inflating: images/stim-1565.png    \n",
            "  inflating: images/stim-1566.png    \n",
            "  inflating: images/stim-1600.png    \n",
            "  inflating: images/stim-1611.png    \n",
            "  inflating: images/stim-1618.png    \n",
            "  inflating: images/stim-1727.png    \n",
            "--2020-08-05 05:52:14--  https://github.com/jcpeterson/percept2vec/blob/master/turkResults_CogSci2016.mat?raw=true\n",
            "Resolving github.com (github.com)... 140.82.118.4\n",
            "Connecting to github.com (github.com)|140.82.118.4|:443... connected.\n",
            "HTTP request sent, awaiting response... 302 Found\n",
            "Location: https://github.com/jcpeterson/percept2vec/raw/master/turkResults_CogSci2016.mat [following]\n",
            "--2020-08-05 05:52:14--  https://github.com/jcpeterson/percept2vec/raw/master/turkResults_CogSci2016.mat\n",
            "Reusing existing connection to github.com:443.\n",
            "HTTP request sent, awaiting response... 302 Found\n",
            "Location: https://raw.githubusercontent.com/jcpeterson/percept2vec/master/turkResults_CogSci2016.mat [following]\n",
            "--2020-08-05 05:52:14--  https://raw.githubusercontent.com/jcpeterson/percept2vec/master/turkResults_CogSci2016.mat\n",
            "Resolving raw.githubusercontent.com (raw.githubusercontent.com)... 151.101.0.133, 151.101.64.133, 151.101.128.133, ...\n",
            "Connecting to raw.githubusercontent.com (raw.githubusercontent.com)|151.101.0.133|:443... connected.\n",
            "HTTP request sent, awaiting response... 200 OK\n",
            "Length: 65856 (64K) [application/octet-stream]\n",
            "Saving to: ‘turkResults_CogSci2016.mat?raw=true’\n",
            "\n",
            "turkResults_CogSci2 100%[===================>]  64.31K  --.-KB/s    in 0.007s  \n",
            "\n",
            "2020-08-05 05:52:15 (8.73 MB/s) - ‘turkResults_CogSci2016.mat?raw=true’ saved [65856/65856]\n",
            "\n"
          ],
          "name": "stdout"
        }
      ]
    },
    {
      "cell_type": "code",
      "metadata": {
        "id": "BMz5ErWVFLo5",
        "colab_type": "code",
        "colab": {
          "base_uri": "https://localhost:8080/",
          "height": 102,
          "referenced_widgets": [
            "2641bc421572430085bf503481699b2a",
            "ed9fb3e768ee435e8de8c30e9946aef7",
            "3e93c0ef22464ff7a4f97842fe5883b7",
            "929649b00953454c8aa4c004846d8f2f",
            "d2e85f43d4d5431abd203c5509f76fd9",
            "c4ac9e2fb6e24d51bd1df79242919d47",
            "8b6451bfc25241c4830a43c0d92d87f7",
            "bc867396211f40d79db37c205e7434d0"
          ]
        },
        "outputId": "c39c3dc9-e456-40b9-c01b-0ec7de7263b7"
      },
      "source": [
        "import torch\n",
        "import torch.nn as nn\n",
        "model = torch.hub.load('pytorch/vision:v0.6.0', 'alexnet', pretrained=True)"
      ],
      "execution_count": 2,
      "outputs": [
        {
          "output_type": "stream",
          "text": [
            "Downloading: \"https://github.com/pytorch/vision/archive/v0.6.0.zip\" to /root/.cache/torch/hub/v0.6.0.zip\n",
            "Downloading: \"https://download.pytorch.org/models/alexnet-owt-4df8aa71.pth\" to /root/.cache/torch/hub/checkpoints/alexnet-owt-4df8aa71.pth\n"
          ],
          "name": "stderr"
        },
        {
          "output_type": "display_data",
          "data": {
            "application/vnd.jupyter.widget-view+json": {
              "model_id": "2641bc421572430085bf503481699b2a",
              "version_minor": 0,
              "version_major": 2
            },
            "text/plain": [
              "HBox(children=(FloatProgress(value=0.0, max=244418560.0), HTML(value='')))"
            ]
          },
          "metadata": {
            "tags": []
          }
        },
        {
          "output_type": "stream",
          "text": [
            "\n"
          ],
          "name": "stdout"
        }
      ]
    },
    {
      "cell_type": "code",
      "metadata": {
        "id": "BOwRmGvlWYu3",
        "colab_type": "code",
        "colab": {}
      },
      "source": [
        "model.classifier = nn.Sequential(*list(model.classifier.children())[:-1])"
      ],
      "execution_count": 3,
      "outputs": []
    },
    {
      "cell_type": "code",
      "metadata": {
        "id": "STCU39UBXK7o",
        "colab_type": "code",
        "colab": {
          "base_uri": "https://localhost:8080/",
          "height": 474
        },
        "outputId": "99fcb75e-a452-40c1-de29-a1c26e728e2e"
      },
      "source": [
        "model.eval()"
      ],
      "execution_count": 4,
      "outputs": [
        {
          "output_type": "execute_result",
          "data": {
            "text/plain": [
              "AlexNet(\n",
              "  (features): Sequential(\n",
              "    (0): Conv2d(3, 64, kernel_size=(11, 11), stride=(4, 4), padding=(2, 2))\n",
              "    (1): ReLU(inplace=True)\n",
              "    (2): MaxPool2d(kernel_size=3, stride=2, padding=0, dilation=1, ceil_mode=False)\n",
              "    (3): Conv2d(64, 192, kernel_size=(5, 5), stride=(1, 1), padding=(2, 2))\n",
              "    (4): ReLU(inplace=True)\n",
              "    (5): MaxPool2d(kernel_size=3, stride=2, padding=0, dilation=1, ceil_mode=False)\n",
              "    (6): Conv2d(192, 384, kernel_size=(3, 3), stride=(1, 1), padding=(1, 1))\n",
              "    (7): ReLU(inplace=True)\n",
              "    (8): Conv2d(384, 256, kernel_size=(3, 3), stride=(1, 1), padding=(1, 1))\n",
              "    (9): ReLU(inplace=True)\n",
              "    (10): Conv2d(256, 256, kernel_size=(3, 3), stride=(1, 1), padding=(1, 1))\n",
              "    (11): ReLU(inplace=True)\n",
              "    (12): MaxPool2d(kernel_size=3, stride=2, padding=0, dilation=1, ceil_mode=False)\n",
              "  )\n",
              "  (avgpool): AdaptiveAvgPool2d(output_size=(6, 6))\n",
              "  (classifier): Sequential(\n",
              "    (0): Dropout(p=0.5, inplace=False)\n",
              "    (1): Linear(in_features=9216, out_features=4096, bias=True)\n",
              "    (2): ReLU(inplace=True)\n",
              "    (3): Dropout(p=0.5, inplace=False)\n",
              "    (4): Linear(in_features=4096, out_features=4096, bias=True)\n",
              "    (5): ReLU(inplace=True)\n",
              "  )\n",
              ")"
            ]
          },
          "metadata": {
            "tags": []
          },
          "execution_count": 4
        }
      ]
    },
    {
      "cell_type": "code",
      "metadata": {
        "id": "sJFErglRiZ18",
        "colab_type": "code",
        "colab": {
          "base_uri": "https://localhost:8080/",
          "height": 34
        },
        "outputId": "dc93e288-a04b-426d-f488-316ba9e6d541"
      },
      "source": [
        "import glob\n",
        "import re\n",
        "from tensorflow.keras.preprocessing import image\n",
        "from PIL import Image\n",
        "import numpy as np\n",
        "\n",
        "data = {}\n",
        "name=[]\n",
        "path = \"/content/images/*.png\"\n",
        "\n",
        "for file in glob.glob(path):\n",
        "    temp1=image.load_img(file)\n",
        "    temp2=re.findall(r'\\d+', file)\n",
        "    name.append(int(temp2[0]))\n",
        "    data.update({int(temp2[0]) : temp1})\n",
        "\n",
        "print(len(name))\n",
        "\n",
        "mapping = {}\n"
      ],
      "execution_count": 5,
      "outputs": [
        {
          "output_type": "stream",
          "text": [
            "120\n"
          ],
          "name": "stdout"
        }
      ]
    },
    {
      "cell_type": "code",
      "metadata": {
        "id": "1tMCMNS4jC_h",
        "colab_type": "code",
        "colab": {}
      },
      "source": [
        "from torchvision import transforms\n",
        "\n",
        "preprocess = transforms.Compose([\n",
        "    transforms.Resize(256),\n",
        "    transforms.CenterCrop(227),\n",
        "    transforms.ToTensor(),\n",
        "    transforms.Normalize(mean=[0.485, 0.456, 0.406], std=[0.229, 0.224, 0.225]),\n",
        "])"
      ],
      "execution_count": 6,
      "outputs": []
    },
    {
      "cell_type": "code",
      "metadata": {
        "id": "PvhFfN7BjaoE",
        "colab_type": "code",
        "colab": {}
      },
      "source": [
        "for i in range(120):\n",
        "  input_tensor = preprocess(data[name[i]])\n",
        "  input_batch = input_tensor.unsqueeze(0)\n",
        "  feature = model(input_batch)\n",
        "  mapping.update({name[i] : feature})\n"
      ],
      "execution_count": 9,
      "outputs": []
    },
    {
      "cell_type": "code",
      "metadata": {
        "id": "2h9rLMVakHdU",
        "colab_type": "code",
        "colab": {
          "base_uri": "https://localhost:8080/",
          "height": 158
        },
        "outputId": "0480cc3b-82d6-4357-844d-64b198ff2fe9"
      },
      "source": [
        "name.sort()\n",
        "\n",
        "li = []\n",
        "\n",
        "for i in range(120):\n",
        "  li.append(mapping[name[i]].cpu().detach().numpy())\n",
        "\n",
        "F = np.asarray(li)\n",
        "F = np.reshape(F, (120,4096))\n",
        "print(F)\n",
        "\n",
        "Mat = F.dot(F.transpose())\n",
        "OrigSimMat = Mat\n",
        "Mat = np.reshape(Mat, (14400))\n",
        "print(Mat)"
      ],
      "execution_count": 12,
      "outputs": [
        {
          "output_type": "stream",
          "text": [
            "[[0.        0.        0.        ... 0.        0.        0.       ]\n",
            " [0.        0.        0.        ... 0.        0.        3.009432 ]\n",
            " [0.        0.        0.        ... 0.        0.        0.       ]\n",
            " ...\n",
            " [0.        0.        0.        ... 0.        0.        0.       ]\n",
            " [0.        0.        0.        ... 2.7956288 0.        0.       ]\n",
            " [0.        0.        0.        ... 0.        0.        0.       ]]\n",
            "[3088.7002   877.7078   317.09274 ... 1114.5997   197.30281 3392.2646 ]\n"
          ],
          "name": "stdout"
        }
      ]
    },
    {
      "cell_type": "code",
      "metadata": {
        "id": "q-nIO2DxOd9D",
        "colab_type": "code",
        "colab": {
          "base_uri": "https://localhost:8080/",
          "height": 34
        },
        "outputId": "2f8e325f-11a4-4fb6-8327-57c837c0d5d1"
      },
      "source": [
        "humMat = np.reshape(humMat,(14400,))\n",
        "\n",
        "cor_mat = np.corrcoef(Mat, humMat)\n",
        "r = cor_mat[0,1]\n",
        "\n",
        "r2 = r**2\n",
        "print(r2)"
      ],
      "execution_count": 23,
      "outputs": [
        {
          "output_type": "stream",
          "text": [
            "0.3162062234907594\n"
          ],
          "name": "stdout"
        }
      ]
    },
    {
      "cell_type": "code",
      "metadata": {
        "colab_type": "code",
        "id": "ZY0ZKBM_hRNM",
        "colab": {
          "base_uri": "https://localhost:8080/",
          "height": 34
        },
        "outputId": "702387a1-f590-45cf-9052-ac8f8b79f392"
      },
      "source": [
        "humanSimMat = humMat.reshape(120,120)\n",
        "uniMat=[]               # For considering only the unique entries since it is a symmetric matrix\n",
        "for i in range(120):\n",
        "  for j in range(i,120):\n",
        "    uniMat.append(humanSimMat[i,j])\n",
        "\n",
        "uniMat=np.asarray(uniMat)\n",
        "\n",
        "print(uniMat.shape)"
      ],
      "execution_count": 24,
      "outputs": [
        {
          "output_type": "stream",
          "text": [
            "(7260,)\n"
          ],
          "name": "stdout"
        }
      ]
    },
    {
      "cell_type": "code",
      "metadata": {
        "id": "_CiEB2cRl67D",
        "colab_type": "code",
        "colab": {
          "base_uri": "https://localhost:8080/",
          "height": 52
        },
        "outputId": "5f542314-c9d7-4847-f4f3-929fa9c5b11a"
      },
      "source": [
        "inp = []\n",
        "for i in range(120):\n",
        "  for j in range(i,120):\n",
        "    inp.append(F[i]*F[j])\n",
        "\n",
        "inp = np.asarray(inp)\n",
        "print(inp.shape )\n",
        "\n",
        "inp2 = []\n",
        "for i in range(120):\n",
        "  for j in range(120):\n",
        "    inp2.append(F[i]*F[j])\n",
        "\n",
        "inp2 = np.asarray(inp2)\n",
        "print(inp2.shape )"
      ],
      "execution_count": 15,
      "outputs": [
        {
          "output_type": "stream",
          "text": [
            "(7260, 4096)\n",
            "(14400, 4096)\n"
          ],
          "name": "stdout"
        }
      ]
    },
    {
      "cell_type": "code",
      "metadata": {
        "colab_type": "code",
        "id": "fMiEaGrgb-E2",
        "colab": {
          "base_uri": "https://localhost:8080/",
          "height": 175
        },
        "outputId": "2023528c-7d2f-42db-905b-3dfa7b2988b4"
      },
      "source": [
        "from sklearn.model_selection import GridSearchCV\n",
        "from sklearn.linear_model import Ridge\n",
        "\n",
        "reg = Ridge(solver='sag', fit_intercept=False)\n",
        "\n",
        "parameters = {'alpha': [10,100,1000,1e4, 50000, 1e5,1e6]}\n",
        "\n",
        "search = GridSearchCV(reg, parameters, scoring='neg_mean_squared_error', cv=6)\n",
        "search.fit(inp, uniMat)"
      ],
      "execution_count": 16,
      "outputs": [
        {
          "output_type": "execute_result",
          "data": {
            "text/plain": [
              "GridSearchCV(cv=6, error_score=nan,\n",
              "             estimator=Ridge(alpha=1.0, copy_X=True, fit_intercept=False,\n",
              "                             max_iter=None, normalize=False, random_state=None,\n",
              "                             solver='sag', tol=0.001),\n",
              "             iid='deprecated', n_jobs=None,\n",
              "             param_grid={'alpha': [10, 100, 1000, 10000.0, 50000, 100000.0,\n",
              "                                   1000000.0]},\n",
              "             pre_dispatch='2*n_jobs', refit=True, return_train_score=False,\n",
              "             scoring='neg_mean_squared_error', verbose=0)"
            ]
          },
          "metadata": {
            "tags": []
          },
          "execution_count": 16
        }
      ]
    },
    {
      "cell_type": "code",
      "metadata": {
        "id": "J0iJAnQ-O7Ud",
        "colab_type": "code",
        "colab": {
          "base_uri": "https://localhost:8080/",
          "height": 52
        },
        "outputId": "8513b8c7-95b1-41c5-d14b-dcc3d9635cf1"
      },
      "source": [
        "best_reg = search.best_estimator_\n",
        "print(best_reg)"
      ],
      "execution_count": 21,
      "outputs": [
        {
          "output_type": "stream",
          "text": [
            "Ridge(alpha=50000, copy_X=True, fit_intercept=False, max_iter=None,\n",
            "      normalize=False, random_state=None, solver='sag', tol=0.001)\n"
          ],
          "name": "stdout"
        }
      ]
    },
    {
      "cell_type": "code",
      "metadata": {
        "id": "wEKApXF4P9yy",
        "colab_type": "code",
        "colab": {}
      },
      "source": [
        "from sklearn.model_selection import cross_validate\n",
        "a=cross_validate(best_reg,inp2,humMat,scoring=\"r2\",cv=6)"
      ],
      "execution_count": 27,
      "outputs": []
    },
    {
      "cell_type": "code",
      "metadata": {
        "id": "UrOq3v2_QBug",
        "colab_type": "code",
        "colab": {
          "base_uri": "https://localhost:8080/",
          "height": 34
        },
        "outputId": "52c1c683-acfe-48a7-8dff-fc8a8c3ab780"
      },
      "source": [
        "a['test_score'].mean()"
      ],
      "execution_count": 28,
      "outputs": [
        {
          "output_type": "execute_result",
          "data": {
            "text/plain": [
              "0.6108649552004457"
            ]
          },
          "metadata": {
            "tags": []
          },
          "execution_count": 28
        }
      ]
    },
    {
      "cell_type": "code",
      "metadata": {
        "colab_type": "code",
        "id": "7aVeF1x7cLso",
        "colab": {
          "base_uri": "https://localhost:8080/",
          "height": 34
        },
        "outputId": "5003d83c-c58f-4343-f162-6bad4907adea"
      },
      "source": [
        "PredSimMat = best_reg.predict(inp2)\n",
        "\n",
        "cor_mat = np.corrcoef(PredSimMat, humMat)\n",
        "r = cor_mat[0,1]\n",
        "\n",
        "r2 = r**2\n",
        "print(r2)"
      ],
      "execution_count": 26,
      "outputs": [
        {
          "output_type": "stream",
          "text": [
            "0.6656524624393979\n"
          ],
          "name": "stdout"
        }
      ]
    },
    {
      "cell_type": "code",
      "metadata": {
        "id": "ZUnqUDh6WHzB",
        "colab_type": "code",
        "colab": {}
      },
      "source": [
        ""
      ],
      "execution_count": null,
      "outputs": []
    }
  ]
}