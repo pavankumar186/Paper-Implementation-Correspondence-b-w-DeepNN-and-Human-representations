{
  "nbformat": 4,
  "nbformat_minor": 0,
  "metadata": {
    "colab": {
      "name": "Implementation_vgg.ipynb",
      "provenance": [],
      "collapsed_sections": []
    },
    "kernelspec": {
      "name": "python3",
      "display_name": "Python 3"
    },
    "accelerator": "GPU"
  },
  "cells": [
    {
      "cell_type": "code",
      "metadata": {
        "id": "pJVB4r8xEQSg",
        "colab_type": "code",
        "colab": {
          "base_uri": "https://localhost:8080/",
          "height": 1000
        },
        "outputId": "7821b5eb-34e4-44cc-e61c-5a33cf43693a"
      },
      "source": [
        "!wget https://github.com/jcpeterson/percept2vec/blob/master/animals.zip?raw=true\n",
        "!unzip animals.zip?raw=true\n",
        "!wget https://github.com/jcpeterson/percept2vec/blob/master/turkResults_CogSci2016.mat?raw=true\n",
        "!mv turkResults_CogSci2016.mat\\?raw\\=true hum.mat\n",
        "import scipy.io\n",
        "hum = scipy.io.loadmat('hum.mat')\n",
        "humMat = hum['simMatrix']"
      ],
      "execution_count": 1,
      "outputs": [
        {
          "output_type": "stream",
          "text": [
            "--2020-08-05 05:44:12--  https://github.com/jcpeterson/percept2vec/blob/master/animals.zip?raw=true\n",
            "Resolving github.com (github.com)... 140.82.114.4\n",
            "Connecting to github.com (github.com)|140.82.114.4|:443... connected.\n",
            "HTTP request sent, awaiting response... 302 Found\n",
            "Location: https://github.com/jcpeterson/percept2vec/raw/master/animals.zip [following]\n",
            "--2020-08-05 05:44:12--  https://github.com/jcpeterson/percept2vec/raw/master/animals.zip\n",
            "Reusing existing connection to github.com:443.\n",
            "HTTP request sent, awaiting response... 302 Found\n",
            "Location: https://raw.githubusercontent.com/jcpeterson/percept2vec/master/animals.zip [following]\n",
            "--2020-08-05 05:44:12--  https://raw.githubusercontent.com/jcpeterson/percept2vec/master/animals.zip\n",
            "Resolving raw.githubusercontent.com (raw.githubusercontent.com)... 151.101.0.133, 151.101.64.133, 151.101.128.133, ...\n",
            "Connecting to raw.githubusercontent.com (raw.githubusercontent.com)|151.101.0.133|:443... connected.\n",
            "HTTP request sent, awaiting response... 200 OK\n",
            "Length: 20380708 (19M) [application/zip]\n",
            "Saving to: ‘animals.zip?raw=true’\n",
            "\n",
            "animals.zip?raw=tru 100%[===================>]  19.44M  58.1MB/s    in 0.3s    \n",
            "\n",
            "2020-08-05 05:44:13 (58.1 MB/s) - ‘animals.zip?raw=true’ saved [20380708/20380708]\n",
            "\n",
            "Archive:  animals.zip?raw=true\n",
            "   creating: images/\n",
            "  inflating: images/desktop.ini      \n",
            "  inflating: images/stim-0007.png    \n",
            "  inflating: images/stim-0019.png    \n",
            "  inflating: images/stim-0035.png    \n",
            "  inflating: images/stim-0078.png    \n",
            "  inflating: images/stim-0087.png    \n",
            "  inflating: images/stim-0098.png    \n",
            "  inflating: images/stim-0152.png    \n",
            "  inflating: images/stim-0156.png    \n",
            "  inflating: images/stim-0166.png    \n",
            "  inflating: images/stim-0178.png    \n",
            "  inflating: images/stim-0189.png    \n",
            "  inflating: images/stim-0201.png    \n",
            "  inflating: images/stim-0205.png    \n",
            "  inflating: images/stim-0213.png    \n",
            "  inflating: images/stim-0225.png    \n",
            "  inflating: images/stim-0234.png    \n",
            "  inflating: images/stim-0239.png    \n",
            "  inflating: images/stim-0255.png    \n",
            "  inflating: images/stim-0262.png    \n",
            "  inflating: images/stim-0264.png    \n",
            "  inflating: images/stim-0265.png    \n",
            "  inflating: images/stim-0304.png    \n",
            "  inflating: images/stim-0306.png    \n",
            "  inflating: images/stim-0307.png    \n",
            "  inflating: images/stim-0326.png    \n",
            "  inflating: images/stim-0340.png    \n",
            "  inflating: images/stim-0346.png    \n",
            "  inflating: images/stim-0352.png    \n",
            "  inflating: images/stim-0354.png    \n",
            "  inflating: images/stim-0394.png    \n",
            "  inflating: images/stim-0398.png    \n",
            "  inflating: images/stim-0400.png    \n",
            "  inflating: images/stim-0407.png    \n",
            "  inflating: images/stim-0433.png    \n",
            "  inflating: images/stim-0441.png    \n",
            "  inflating: images/stim-0466.png    \n",
            "  inflating: images/stim-0517.png    \n",
            "  inflating: images/stim-0533.png    \n",
            "  inflating: images/stim-0548.png    \n",
            "  inflating: images/stim-0598.png    \n",
            "  inflating: images/stim-0605.png    \n",
            "  inflating: images/stim-0609.png    \n",
            "  inflating: images/stim-0614.png    \n",
            "  inflating: images/stim-0629.png    \n",
            "  inflating: images/stim-0641.png    \n",
            "  inflating: images/stim-0659.png    \n",
            "  inflating: images/stim-0665.png    \n",
            "  inflating: images/stim-0675.png    \n",
            "  inflating: images/stim-0677.png    \n",
            "  inflating: images/stim-0698.png    \n",
            "  inflating: images/stim-0702.png    \n",
            "  inflating: images/stim-0720.png    \n",
            "  inflating: images/stim-0722.png    \n",
            "  inflating: images/stim-0762.png    \n",
            "  inflating: images/stim-0768.png    \n",
            "  inflating: images/stim-0786.png    \n",
            "  inflating: images/stim-0793.png    \n",
            "  inflating: images/stim-0805.png    \n",
            "  inflating: images/stim-0829.png    \n",
            "  inflating: images/stim-0836.png    \n",
            "  inflating: images/stim-0856.png    \n",
            "  inflating: images/stim-0906.png    \n",
            "  inflating: images/stim-0919.png    \n",
            "  inflating: images/stim-0929.png    \n",
            "  inflating: images/stim-0942.png    \n",
            "  inflating: images/stim-0953.png    \n",
            "  inflating: images/stim-0976.png    \n",
            "  inflating: images/stim-0978.png    \n",
            "  inflating: images/stim-0984.png    \n",
            "  inflating: images/stim-0986.png    \n",
            "  inflating: images/stim-0994.png    \n",
            "  inflating: images/stim-1027.png    \n",
            "  inflating: images/stim-1033.png    \n",
            "  inflating: images/stim-1034.png    \n",
            "  inflating: images/stim-1041.png    \n",
            "  inflating: images/stim-1049.png    \n",
            "  inflating: images/stim-1056.png    \n",
            "  inflating: images/stim-1059.png    \n",
            "  inflating: images/stim-1073.png    \n",
            "  inflating: images/stim-1075.png    \n",
            "  inflating: images/stim-1077.png    \n",
            "  inflating: images/stim-1079.png    \n",
            "  inflating: images/stim-1082.png    \n",
            "  inflating: images/stim-1089.png    \n",
            "  inflating: images/stim-1096.png    \n",
            "  inflating: images/stim-1098.png    \n",
            "  inflating: images/stim-1125.png    \n",
            "  inflating: images/stim-1130.png    \n",
            "  inflating: images/stim-1134.png    \n",
            "  inflating: images/stim-1143.png    \n",
            "  inflating: images/stim-1149.png    \n",
            "  inflating: images/stim-1158.png    \n",
            "  inflating: images/stim-1172.png    \n",
            "  inflating: images/stim-1183.png    \n",
            "  inflating: images/stim-1209.png    \n",
            "  inflating: images/stim-1228.png    \n",
            "  inflating: images/stim-1238.png    \n",
            "  inflating: images/stim-1286.png    \n",
            "  inflating: images/stim-1314.png    \n",
            "  inflating: images/stim-1325.png    \n",
            "  inflating: images/stim-1343.png    \n",
            "  inflating: images/stim-1345.png    \n",
            "  inflating: images/stim-1363.png    \n",
            "  inflating: images/stim-1368.png    \n",
            "  inflating: images/stim-1377.png    \n",
            "  inflating: images/stim-1432.png    \n",
            "  inflating: images/stim-1460.png    \n",
            "  inflating: images/stim-1464.png    \n",
            "  inflating: images/stim-1507.png    \n",
            "  inflating: images/stim-1518.png    \n",
            "  inflating: images/stim-1521.png    \n",
            "  inflating: images/stim-1526.png    \n",
            "  inflating: images/stim-1533.png    \n",
            "  inflating: images/stim-1552.png    \n",
            "  inflating: images/stim-1565.png    \n",
            "  inflating: images/stim-1566.png    \n",
            "  inflating: images/stim-1600.png    \n",
            "  inflating: images/stim-1611.png    \n",
            "  inflating: images/stim-1618.png    \n",
            "  inflating: images/stim-1727.png    \n",
            "--2020-08-05 05:44:18--  https://github.com/jcpeterson/percept2vec/blob/master/turkResults_CogSci2016.mat?raw=true\n",
            "Resolving github.com (github.com)... 192.30.255.112\n",
            "Connecting to github.com (github.com)|192.30.255.112|:443... connected.\n",
            "HTTP request sent, awaiting response... 302 Found\n",
            "Location: https://github.com/jcpeterson/percept2vec/raw/master/turkResults_CogSci2016.mat [following]\n",
            "--2020-08-05 05:44:18--  https://github.com/jcpeterson/percept2vec/raw/master/turkResults_CogSci2016.mat\n",
            "Reusing existing connection to github.com:443.\n",
            "HTTP request sent, awaiting response... 302 Found\n",
            "Location: https://raw.githubusercontent.com/jcpeterson/percept2vec/master/turkResults_CogSci2016.mat [following]\n",
            "--2020-08-05 05:44:18--  https://raw.githubusercontent.com/jcpeterson/percept2vec/master/turkResults_CogSci2016.mat\n",
            "Resolving raw.githubusercontent.com (raw.githubusercontent.com)... 151.101.0.133, 151.101.64.133, 151.101.128.133, ...\n",
            "Connecting to raw.githubusercontent.com (raw.githubusercontent.com)|151.101.0.133|:443... connected.\n",
            "HTTP request sent, awaiting response... 200 OK\n",
            "Length: 65856 (64K) [application/octet-stream]\n",
            "Saving to: ‘turkResults_CogSci2016.mat?raw=true’\n",
            "\n",
            "turkResults_CogSci2 100%[===================>]  64.31K  --.-KB/s    in 0.02s   \n",
            "\n",
            "2020-08-05 05:44:19 (4.00 MB/s) - ‘turkResults_CogSci2016.mat?raw=true’ saved [65856/65856]\n",
            "\n"
          ],
          "name": "stdout"
        }
      ]
    },
    {
      "cell_type": "code",
      "metadata": {
        "id": "gmDNfjNaMPBo",
        "colab_type": "code",
        "colab": {
          "base_uri": "https://localhost:8080/",
          "height": 932
        },
        "outputId": "3fb43fa4-112c-4098-df66-d159b6fdb1e8"
      },
      "source": [
        "import tensorflow as tf\n",
        "vgg_model = tf.keras.applications.vgg16.VGG16(weights='imagenet', include_top=True, input_shape = (224, 224, 3))\n",
        "v_model = tf.keras.Sequential()\n",
        "\n",
        "for l in vgg_model.layers[:-1]:\n",
        "  v_model.add(l)\n",
        "\n",
        "v_model.summary()"
      ],
      "execution_count": 2,
      "outputs": [
        {
          "output_type": "stream",
          "text": [
            "Downloading data from https://storage.googleapis.com/tensorflow/keras-applications/vgg16/vgg16_weights_tf_dim_ordering_tf_kernels.h5\n",
            "553467904/553467096 [==============================] - 4s 0us/step\n",
            "Model: \"sequential\"\n",
            "_________________________________________________________________\n",
            "Layer (type)                 Output Shape              Param #   \n",
            "=================================================================\n",
            "block1_conv1 (Conv2D)        (None, 224, 224, 64)      1792      \n",
            "_________________________________________________________________\n",
            "block1_conv2 (Conv2D)        (None, 224, 224, 64)      36928     \n",
            "_________________________________________________________________\n",
            "block1_pool (MaxPooling2D)   (None, 112, 112, 64)      0         \n",
            "_________________________________________________________________\n",
            "block2_conv1 (Conv2D)        (None, 112, 112, 128)     73856     \n",
            "_________________________________________________________________\n",
            "block2_conv2 (Conv2D)        (None, 112, 112, 128)     147584    \n",
            "_________________________________________________________________\n",
            "block2_pool (MaxPooling2D)   (None, 56, 56, 128)       0         \n",
            "_________________________________________________________________\n",
            "block3_conv1 (Conv2D)        (None, 56, 56, 256)       295168    \n",
            "_________________________________________________________________\n",
            "block3_conv2 (Conv2D)        (None, 56, 56, 256)       590080    \n",
            "_________________________________________________________________\n",
            "block3_conv3 (Conv2D)        (None, 56, 56, 256)       590080    \n",
            "_________________________________________________________________\n",
            "block3_pool (MaxPooling2D)   (None, 28, 28, 256)       0         \n",
            "_________________________________________________________________\n",
            "block4_conv1 (Conv2D)        (None, 28, 28, 512)       1180160   \n",
            "_________________________________________________________________\n",
            "block4_conv2 (Conv2D)        (None, 28, 28, 512)       2359808   \n",
            "_________________________________________________________________\n",
            "block4_conv3 (Conv2D)        (None, 28, 28, 512)       2359808   \n",
            "_________________________________________________________________\n",
            "block4_pool (MaxPooling2D)   (None, 14, 14, 512)       0         \n",
            "_________________________________________________________________\n",
            "block5_conv1 (Conv2D)        (None, 14, 14, 512)       2359808   \n",
            "_________________________________________________________________\n",
            "block5_conv2 (Conv2D)        (None, 14, 14, 512)       2359808   \n",
            "_________________________________________________________________\n",
            "block5_conv3 (Conv2D)        (None, 14, 14, 512)       2359808   \n",
            "_________________________________________________________________\n",
            "block5_pool (MaxPooling2D)   (None, 7, 7, 512)         0         \n",
            "_________________________________________________________________\n",
            "flatten (Flatten)            (None, 25088)             0         \n",
            "_________________________________________________________________\n",
            "fc1 (Dense)                  (None, 4096)              102764544 \n",
            "_________________________________________________________________\n",
            "fc2 (Dense)                  (None, 4096)              16781312  \n",
            "=================================================================\n",
            "Total params: 134,260,544\n",
            "Trainable params: 134,260,544\n",
            "Non-trainable params: 0\n",
            "_________________________________________________________________\n"
          ],
          "name": "stdout"
        }
      ]
    },
    {
      "cell_type": "code",
      "metadata": {
        "id": "W5AI_0KDHcIr",
        "colab_type": "code",
        "colab": {
          "base_uri": "https://localhost:8080/",
          "height": 34
        },
        "outputId": "fdbaacee-5a32-4454-bfca-3c75be66a714"
      },
      "source": [
        "import glob\n",
        "import re\n",
        "import numpy as np\n",
        "from keras.applications.vgg16 import preprocess_input\n",
        "from tensorflow.keras.preprocessing import image\n",
        "data = {}\n",
        "name=[]\n",
        "path = \"/content/images/*.png\"\n",
        "\n",
        "for file in glob.glob(path):\n",
        "    temp1=image.load_img(file)\n",
        "    temp2=re.findall(r'\\d+', file)\n",
        "    name.append(int(temp2[0]))\n",
        "    data.update({int(temp2[0]) : temp1})\n",
        "\n",
        "print(len(name))\n",
        "\n",
        "mapping = {}\n",
        "\n",
        "for i in range(120):\n",
        "  data[name[i]] = np.expand_dims(data[name[i]], axis=0)\n",
        "  data[name[i]] = preprocess_input(data[name[i]])\n",
        "  feature = v_model.predict(data[name[i]])\n",
        "  mapping.update({name[i] : feature})\n",
        "  mapping[name[i]] = np.reshape(mapping[name[i]],4096)"
      ],
      "execution_count": 3,
      "outputs": [
        {
          "output_type": "stream",
          "text": [
            "120\n"
          ],
          "name": "stdout"
        }
      ]
    },
    {
      "cell_type": "code",
      "metadata": {
        "colab_type": "code",
        "id": "iFPEHsLFhRNH",
        "colab": {
          "base_uri": "https://localhost:8080/",
          "height": 158
        },
        "outputId": "fa2f75b8-0b12-4700-ea46-90345e8d9f85"
      },
      "source": [
        "name.sort()\n",
        "\n",
        "li = []\n",
        "\n",
        "for i in range(120):\n",
        "  li.append(mapping[name[i]])\n",
        "\n",
        "F = np.asarray(li)\n",
        "F = np.reshape(F, (120,4096))\n",
        "print(F)\n",
        "\n",
        "Mat = F.dot(F.transpose())\n",
        "OrigSimMat = Mat\n",
        "Mat = np.reshape(Mat, (14400))\n",
        "print(Mat)"
      ],
      "execution_count": 4,
      "outputs": [
        {
          "output_type": "stream",
          "text": [
            "[[0.         1.583843   0.         ... 0.         0.47101805 0.        ]\n",
            " [0.7050716  0.         1.9185694  ... 0.         0.         0.        ]\n",
            " [0.         0.         0.         ... 0.         0.         0.01230222]\n",
            " ...\n",
            " [0.         5.9127946  0.         ... 0.         0.         0.        ]\n",
            " [0.         0.         2.611578   ... 0.         0.         0.        ]\n",
            " [0.         1.7740846  0.         ... 0.         0.         0.555869  ]]\n",
            "[7379.021   3241.4468  1205.5059  ... 1785.7755   408.06665 3472.9758 ]\n"
          ],
          "name": "stdout"
        }
      ]
    },
    {
      "cell_type": "code",
      "metadata": {
        "id": "0pkU5ILaIPOE",
        "colab_type": "code",
        "colab": {
          "base_uri": "https://localhost:8080/",
          "height": 34
        },
        "outputId": "c4d5ef8d-3534-48f1-faf3-0bf4bd785b61"
      },
      "source": [
        "humMat = np.reshape(humMat,(14400,))\n",
        "\n",
        "cor_mat = np.corrcoef(Mat, humMat)\n",
        "r = cor_mat[0,1]\n",
        "\n",
        "r2 = r**2\n",
        "print(r2)\n"
      ],
      "execution_count": 17,
      "outputs": [
        {
          "output_type": "stream",
          "text": [
            "0.44783041526507644\n"
          ],
          "name": "stdout"
        }
      ]
    },
    {
      "cell_type": "code",
      "metadata": {
        "colab_type": "code",
        "id": "ZY0ZKBM_hRNM",
        "colab": {
          "base_uri": "https://localhost:8080/",
          "height": 34
        },
        "outputId": "687df758-177e-430b-bbeb-14eedd493a05"
      },
      "source": [
        "humanSimMat=humMat.reshape(120,120)\n",
        "\n",
        "uniMat=[]               # For considering only the unique entries since it is a symmetric matrix\n",
        "for i in range(120):\n",
        "  for j in range(i,120):\n",
        "    uniMat.append(humanSimMat[i,j])\n",
        "\n",
        "uniMat=np.asarray(uniMat)\n",
        "\n",
        "print(uniMat.shape)"
      ],
      "execution_count": 18,
      "outputs": [
        {
          "output_type": "stream",
          "text": [
            "(7260,)\n"
          ],
          "name": "stdout"
        }
      ]
    },
    {
      "cell_type": "code",
      "metadata": {
        "id": "_CiEB2cRl67D",
        "colab_type": "code",
        "colab": {
          "base_uri": "https://localhost:8080/",
          "height": 52
        },
        "outputId": "1e5b4675-6fd1-4c36-82c5-65e7cca233c8"
      },
      "source": [
        "inp = []               \n",
        "for i in range(120):\n",
        "  for j in range(i,120):\n",
        "    inp.append(F[i]*F[j])\n",
        "\n",
        "inp = np.asarray(inp)\n",
        "print(inp.shape )\n",
        "\n",
        "inp2 = []               \n",
        "for i in range(120):\n",
        "  for j in range(120):\n",
        "    inp2.append(F[i]*F[j])\n",
        "\n",
        "inp2 = np.asarray(inp2)\n",
        "print(inp2.shape )\n",
        "\n"
      ],
      "execution_count": 12,
      "outputs": [
        {
          "output_type": "stream",
          "text": [
            "(7260, 4096)\n",
            "(14400, 4096)\n"
          ],
          "name": "stdout"
        }
      ]
    },
    {
      "cell_type": "code",
      "metadata": {
        "colab_type": "code",
        "id": "fMiEaGrgb-E2",
        "colab": {
          "base_uri": "https://localhost:8080/",
          "height": 175
        },
        "outputId": "500ea5a2-5be0-41b3-b958-057e5b18190e"
      },
      "source": [
        "from sklearn.model_selection import GridSearchCV\n",
        "from sklearn.linear_model import Ridge\n",
        "\n",
        "reg = Ridge(solver='sag', fit_intercept=False)\n",
        "\n",
        "parameters = {'alpha': [10,100,1000,1e4, 50000, 1e5,1e6]}\n",
        "\n",
        "search = GridSearchCV(reg, parameters, scoring='neg_mean_squared_error', cv=6)\n",
        "search.fit(inp, uniMat)"
      ],
      "execution_count": 10,
      "outputs": [
        {
          "output_type": "execute_result",
          "data": {
            "text/plain": [
              "GridSearchCV(cv=6, error_score=nan,\n",
              "             estimator=Ridge(alpha=1.0, copy_X=True, fit_intercept=False,\n",
              "                             max_iter=None, normalize=False, random_state=None,\n",
              "                             solver='sag', tol=0.001),\n",
              "             iid='deprecated', n_jobs=None,\n",
              "             param_grid={'alpha': [10, 100, 1000, 10000.0, 50000, 100000.0,\n",
              "                                   1000000.0]},\n",
              "             pre_dispatch='2*n_jobs', refit=True, return_train_score=False,\n",
              "             scoring='neg_mean_squared_error', verbose=0)"
            ]
          },
          "metadata": {
            "tags": []
          },
          "execution_count": 10
        }
      ]
    },
    {
      "cell_type": "code",
      "metadata": {
        "id": "sbrGW1JULG7s",
        "colab_type": "code",
        "colab": {
          "base_uri": "https://localhost:8080/",
          "height": 52
        },
        "outputId": "7ce7b3dd-038a-42a9-d507-86490ece92e2"
      },
      "source": [
        "best_reg = search.best_estimator_\n",
        "print(best_reg)"
      ],
      "execution_count": 14,
      "outputs": [
        {
          "output_type": "stream",
          "text": [
            "Ridge(alpha=10000.0, copy_X=True, fit_intercept=False, max_iter=None,\n",
            "      normalize=False, random_state=None, solver='sag', tol=0.001)\n"
          ],
          "name": "stdout"
        }
      ]
    },
    {
      "cell_type": "code",
      "metadata": {
        "id": "wEKApXF4P9yy",
        "colab_type": "code",
        "colab": {}
      },
      "source": [
        "from sklearn.model_selection import cross_validate\n",
        "a=cross_validate(best_reg,inp2,humMat,scoring=\"r2\",cv=6)"
      ],
      "execution_count": 23,
      "outputs": []
    },
    {
      "cell_type": "code",
      "metadata": {
        "id": "UrOq3v2_QBug",
        "colab_type": "code",
        "colab": {
          "base_uri": "https://localhost:8080/",
          "height": 34
        },
        "outputId": "304c536a-99bc-41ea-aefa-88846a0f3291"
      },
      "source": [
        "a['test_score'].mean()"
      ],
      "execution_count": 24,
      "outputs": [
        {
          "output_type": "execute_result",
          "data": {
            "text/plain": [
              "0.8566448604447382"
            ]
          },
          "metadata": {
            "tags": []
          },
          "execution_count": 24
        }
      ]
    },
    {
      "cell_type": "code",
      "metadata": {
        "colab_type": "code",
        "id": "7aVeF1x7cLso",
        "colab": {
          "base_uri": "https://localhost:8080/",
          "height": 34
        },
        "outputId": "346baf9d-9eff-449c-aaf4-3961cc985207"
      },
      "source": [
        "PredSimMat = best_reg.predict(inp2)\n",
        "\n",
        "cor_mat = np.corrcoef(PredSimMat, humMat)\n",
        "r = cor_mat[0,1]\n",
        "\n",
        "r2 = r**2\n",
        "print(r2)"
      ],
      "execution_count": 25,
      "outputs": [
        {
          "output_type": "stream",
          "text": [
            "0.8926651863102967\n"
          ],
          "name": "stdout"
        }
      ]
    },
    {
      "cell_type": "code",
      "metadata": {
        "id": "APhkJ20LUp6f",
        "colab_type": "code",
        "colab": {}
      },
      "source": [
        ""
      ],
      "execution_count": null,
      "outputs": []
    }
  ]
}